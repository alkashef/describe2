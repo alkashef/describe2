{
 "cells": [
  {
   "cell_type": "code",
   "execution_count": 1,
   "metadata": {
    "collapsed": true
   },
   "outputs": [],
   "source": [
    "import numpy as np\n",
    "import pandas as pd\n",
    "import os"
   ]
  },
  {
   "cell_type": "code",
   "execution_count": 2,
   "metadata": {
    "collapsed": true
   },
   "outputs": [],
   "source": [
    "import warnings\n",
    "warnings.filterwarnings(action='once')"
   ]
  },
  {
   "cell_type": "code",
   "execution_count": 3,
   "metadata": {},
   "outputs": [
    {
     "ename": "SyntaxError",
     "evalue": "invalid syntax (Describe2.py, line 36)",
     "output_type": "error",
     "traceback": [
      "Traceback \u001b[1;36m(most recent call last)\u001b[0m:\n",
      "  File \u001b[0;32m\"C:\\ProgramData\\Anaconda3\\lib\\site-packages\\IPython\\core\\interactiveshell.py\"\u001b[0m, line \u001b[0;32m2862\u001b[0m, in \u001b[0;35mrun_code\u001b[0m\n    exec(code_obj, self.user_global_ns, self.user_ns)\n",
      "\u001b[1;36m  File \u001b[1;32m\"<ipython-input-3-e6bef476eb0c>\"\u001b[1;36m, line \u001b[1;32m1\u001b[1;36m, in \u001b[1;35m<module>\u001b[1;36m\u001b[0m\n\u001b[1;33m    import Describe2 as d2\u001b[0m\n",
      "\u001b[1;36m  File \u001b[1;32m\"C:\\Alkashef\\OneDrive - Teradata\\Dev\\Github\\describe2\\Describe2.py\"\u001b[1;36m, line \u001b[1;32m36\u001b[0m\n\u001b[1;33m    if is_numeric_dtype(df[column])\u001b[0m\n\u001b[1;37m                                   ^\u001b[0m\n\u001b[1;31mSyntaxError\u001b[0m\u001b[1;31m:\u001b[0m invalid syntax\n"
     ]
    }
   ],
   "source": [
    "import numpy as np\n",
    "import pandas as pd\n",
    "from pandas.api.types import *\n",
    "from collections import Counter\n",
    "\n",
    "class Describe2:\n",
    "\n",
    "    def _unique(self, series):\n",
    "        return len(series.unique())\n",
    "\n",
    "    def _count0(self, series):\n",
    "        frequencies = series.value_counts().to_dict()\n",
    "        return frequencies.get(0, 0)\n",
    "\n",
    "    def _count_positive(self, series):\n",
    "        return np.sum(series.values > 0)\n",
    "\n",
    "    def _count_negative(self, series):\n",
    "        return np.sum(series.values < 0)\n",
    "\n",
    "    def _mode(self, series):\n",
    "        return Counter(series).most_common(1)[0][0]\n",
    "\n",
    "    def _outliers_3sig(self, series):\n",
    "        p_threshold = np.mean(series) + (3 * np.std(series))\n",
    "        n_threshold = np.mean(series) - (3 * np.std(series))\n",
    "        return np.sum(series > p_threshold) + np.sum(series < n_threshold)\n",
    "\n",
    "    def dim(self, df):\n",
    "        no_rows = len(df)\n",
    "        no_cols = len(df.columns)\n",
    "        print(no_rows, \"x\", no_cols)\n",
    "\n",
    "    def describe(self, df):\n",
    "        for column in df:\n",
    "            if is_numeric_dtype(df[column]):\n",
    "                print(column, \"number\")\n",
    "            #if np.issubtype(df[column].dtype, np.number)\n",
    "            #    print(column, \"number\")               \n",
    "           #if np.issubtype(df[column].dtype, np.number)\n",
    "           #     print(column, \"number\")\n",
    "                \n",
    "    def describe_num(self, df):\n",
    "        df = df.select_dtypes(exclude=['object', 'bool'])\n",
    "        description = pd.DataFrame()\n",
    "        description['Type'], description['Density'] = df.ftypes.str.split(':').str\n",
    "        description['No. of Values'] = df.apply(len, axis=0)\n",
    "        description['No. of Unique Values'] = df.apply(self._unique, axis=0)\n",
    "        description['No. of NaN'] = description['No. of Values'] - df.count(axis=0)\n",
    "        description['NaN Percent'] = description['No. of NaN'] / description['No. of Values']\n",
    "        description['No. of Zeros'] = df.apply(self._count0, axis=0)\n",
    "        description['No. of +ve Value'] = df.apply(self._count_positive, axis=0)\n",
    "        description['Min'] = df.apply(np.min, axis=0)\n",
    "        description['Max'] = df.apply(np.max, axis=0)\n",
    "        description['Mean'] = df.apply(np.mean, axis=0)\n",
    "        description['Std'] = df.apply(np.std, axis=0)\n",
    "        description['Median'] = df.apply(np.median, axis=0)\n",
    "        description['Mode'] = df.apply(self._mode, axis=0)\n",
    "        description['Skew'] = df.apply(pd.DataFrame.skew, axis=0)\n",
    "        description['Kurtosis'] = df.apply(pd.DataFrame.kurtosis, axis=0)\n",
    "        description['Outliers 3 Sig'] = df.apply(self._outliers_3sig, axis=0)\n",
    "        description['Outliers 3 Sig Percent'] = description['Outliers 3 Sig'] / description['No. of Values']\n",
    "        return description\n",
    "\n",
    "    def describe_obj(self, df):\n",
    "        df = df.select_dtypes(include=['object'])\n",
    "        description = pd.DataFrame()\n",
    "        description['Type'], description['Density'] = df.ftypes.str.split(':').str\n",
    "        description['No. of Values'] = df.apply(len, axis=0)\n",
    "        description['No. of Unique Values'] = df.apply(self._unique, axis=0)\n",
    "        description['No. of NaN'] = description['No. of Values'] - df.count(axis=0)\n",
    "        return description\n",
    "\n",
    "import Describe2 as d2\n",
    "d2 = d2.Describe2()\n"
   ]
  },
  {
   "cell_type": "code",
   "execution_count": null,
   "metadata": {},
   "outputs": [],
   "source": [
    "working_dir = os.getcwd()\n",
    "datasets_dir = os.path.join(working_dir, 'datasets')\n",
    "\n",
    "datasets = {}\n",
    "for csv in os.listdir(datasets_dir):\n",
    "    datasets[os.path.splitext(csv)[0]] = os.path.join(datasets_dir, csv)\n",
    "\n",
    "datasets"
   ]
  },
  {
   "cell_type": "code",
   "execution_count": null,
   "metadata": {},
   "outputs": [],
   "source": [
    "cars = pd.read_csv(datasets['cars'])\n",
    "cars.sample(3)"
   ]
  },
  {
   "cell_type": "code",
   "execution_count": null,
   "metadata": {},
   "outputs": [],
   "source": [
    "d2.describe(cars)"
   ]
  }
 ],
 "metadata": {
  "kernelspec": {
   "display_name": "Python 3",
   "language": "python",
   "name": "python3"
  },
  "language_info": {
   "codemirror_mode": {
    "name": "ipython",
    "version": 3
   },
   "file_extension": ".py",
   "mimetype": "text/x-python",
   "name": "python",
   "nbconvert_exporter": "python",
   "pygments_lexer": "ipython3",
   "version": "3.6.2"
  }
 },
 "nbformat": 4,
 "nbformat_minor": 2
}
