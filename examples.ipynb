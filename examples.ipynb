{
 "cells": [
  {
   "cell_type": "code",
   "execution_count": 1,
   "metadata": {
    "collapsed": true
   },
   "outputs": [],
   "source": [
    "import numpy as np\n",
    "import pandas as pd\n",
    "import os"
   ]
  },
  {
   "cell_type": "code",
   "execution_count": 2,
   "metadata": {
    "collapsed": true
   },
   "outputs": [],
   "source": [
    "import warnings\n",
    "warnings.filterwarnings(action='once')"
   ]
  },
  {
   "cell_type": "code",
   "execution_count": 20,
   "metadata": {},
   "outputs": [],
   "source": [
    "import numpy as np\n",
    "import pandas as pd\n",
    "from pandas.api.types import *\n",
    "from collections import Counter\n",
    "\n",
    "class Describe2:\n",
    "\n",
    "    def _unique(self, series):\n",
    "        return len(series.unique())\n",
    "\n",
    "    def _count0(self, series):\n",
    "        frequencies = series.value_counts().to_dict()\n",
    "        return frequencies.get(0, 0)\n",
    "\n",
    "    def _count_positive(self, series):\n",
    "        return np.sum(series.values > 0)\n",
    "\n",
    "    def _count_negative(self, series):\n",
    "        return np.sum(series.values < 0)\n",
    "\n",
    "    def _mode(self, series):\n",
    "        return Counter(series).most_common(1)[0][0]\n",
    "\n",
    "    def _outliers_3sig(self, series):\n",
    "        p_threshold = np.mean(series) + (3 * np.std(series))\n",
    "        n_threshold = np.mean(series) - (3 * np.std(series))\n",
    "        return np.sum(series > p_threshold) + np.sum(series < n_threshold)\n",
    "\n",
    "    def dim(self, df):\n",
    "        no_rows = len(df)\n",
    "        no_cols = len(df.columns)\n",
    "        print(no_rows, \"x\", no_cols)\n",
    "\n",
    "    #def describe(self, df):\n",
    "    #    for column in df:\n",
    "    #        if is_numeric_dtype(df[column]):\n",
    "    #            print(column, \": number\")\n",
    "    #            continue\n",
    "    #        if is_bool_dtype(df[column]):\n",
    "    #            print(column, \": bool\")\n",
    "    #            continue\n",
    "    #        if is_object_dtype(df[column]):\n",
    "    #            print(column, \": object\")  \n",
    "    #        else:\n",
    "    #            print(column, \": Unsupported Type!\")\n",
    "    #            continue\n",
    "     \n",
    "    def d2(self, df):\n",
    "        num = self.describe_num(df)\n",
    "        obj = self.describe_obj(df)\n",
    "        return num, obj\n",
    "    \n",
    "    def describe_num(self, df):\n",
    "        df = df.select_dtypes(include=['number'])\n",
    "        description = pd.DataFrame()\n",
    "        description['Type'], description['Density'] = df.ftypes.str.split(':').str\n",
    "        description['No. of Values'] = df.apply(len, axis=0)\n",
    "        description['No. of Unique Values'] = df.apply(self._unique, axis=0)\n",
    "        description['No. of NaN'] = description['No. of Values'] - df.count(axis=0)\n",
    "        description['NaN Percent'] = description['No. of NaN'] / description['No. of Values']\n",
    "        description['No. of Zeros'] = df.apply(self._count0, axis=0)\n",
    "        description['No. of +ve Value'] = df.apply(self._count_positive, axis=0)\n",
    "        description['Min'] = df.apply(np.min, axis=0)\n",
    "        description['Max'] = df.apply(np.max, axis=0)\n",
    "        description['Mean'] = df.apply(np.mean, axis=0)\n",
    "        description['Std'] = df.apply(np.std, axis=0)\n",
    "        description['Median'] = df.apply(np.median, axis=0)\n",
    "        description['Mode'] = df.apply(self._mode, axis=0)\n",
    "        description['Skew'] = df.apply(pd.DataFrame.skew, axis=0)\n",
    "        description['Kurtosis'] = df.apply(pd.DataFrame.kurtosis, axis=0)\n",
    "        description['Outliers 3 Sig'] = df.apply(self._outliers_3sig, axis=0)\n",
    "        description['Outliers 3 Sig Percent'] = description['Outliers 3 Sig'] / description['No. of Values']\n",
    "        return description\n",
    "\n",
    "    def describe_obj(self, df):\n",
    "        df = df.select_dtypes(include=['object'])\n",
    "        description = pd.DataFrame()\n",
    "        description['Type'], description['Density'] = df.ftypes.str.split(':').str\n",
    "        description['No. of Values'] = df.apply(len, axis=0)\n",
    "        description['No. of Unique Values'] = df.apply(self._unique, axis=0)\n",
    "        description['No. of NaN'] = description['No. of Values'] - df.count(axis=0)\n",
    "        return description\n",
    "\n",
    "#import Describe2 as d2\n",
    "d2 = Describe2()"
   ]
  },
  {
   "cell_type": "code",
   "execution_count": 21,
   "metadata": {},
   "outputs": [
    {
     "data": {
      "text/plain": [
       "{'cars': 'C:\\\\Alkashef\\\\OneDrive - Teradata\\\\Dev\\\\Github\\\\describe2\\\\datasets\\\\cars.csv',\n",
       " 'census': 'C:\\\\Alkashef\\\\OneDrive - Teradata\\\\Dev\\\\Github\\\\describe2\\\\datasets\\\\census.csv',\n",
       " 'grades': 'C:\\\\Alkashef\\\\OneDrive - Teradata\\\\Dev\\\\Github\\\\describe2\\\\datasets\\\\grades.csv',\n",
       " 'log': 'C:\\\\Alkashef\\\\OneDrive - Teradata\\\\Dev\\\\Github\\\\describe2\\\\datasets\\\\log.csv',\n",
       " 'mpg': 'C:\\\\Alkashef\\\\OneDrive - Teradata\\\\Dev\\\\Github\\\\describe2\\\\datasets\\\\mpg.csv',\n",
       " 'olympics': 'C:\\\\Alkashef\\\\OneDrive - Teradata\\\\Dev\\\\Github\\\\describe2\\\\datasets\\\\olympics.csv'}"
      ]
     },
     "execution_count": 21,
     "metadata": {},
     "output_type": "execute_result"
    }
   ],
   "source": [
    "working_dir = os.getcwd()\n",
    "datasets_dir = os.path.join(working_dir, 'datasets')\n",
    "\n",
    "datasets = {}\n",
    "for csv in os.listdir(datasets_dir):\n",
    "    datasets[os.path.splitext(csv)[0]] = os.path.join(datasets_dir, csv)\n",
    "\n",
    "datasets"
   ]
  },
  {
   "cell_type": "code",
   "execution_count": 22,
   "metadata": {},
   "outputs": [
    {
     "data": {
      "text/html": [
       "<div>\n",
       "<style>\n",
       "    .dataframe thead tr:only-child th {\n",
       "        text-align: right;\n",
       "    }\n",
       "\n",
       "    .dataframe thead th {\n",
       "        text-align: left;\n",
       "    }\n",
       "\n",
       "    .dataframe tbody tr th {\n",
       "        vertical-align: top;\n",
       "    }\n",
       "</style>\n",
       "<table border=\"1\" class=\"dataframe\">\n",
       "  <thead>\n",
       "    <tr style=\"text-align: right;\">\n",
       "      <th></th>\n",
       "      <th>YEAR</th>\n",
       "      <th>Make</th>\n",
       "      <th>Model</th>\n",
       "      <th>Size</th>\n",
       "      <th>(kW)</th>\n",
       "      <th>Unnamed: 5</th>\n",
       "      <th>TYPE</th>\n",
       "      <th>CITY (kWh/100 km)</th>\n",
       "      <th>HWY (kWh/100 km)</th>\n",
       "      <th>COMB (kWh/100 km)</th>\n",
       "      <th>CITY (Le/100 km)</th>\n",
       "      <th>HWY (Le/100 km)</th>\n",
       "      <th>COMB (Le/100 km)</th>\n",
       "      <th>(g/km)</th>\n",
       "      <th>RATING</th>\n",
       "      <th>(km)</th>\n",
       "      <th>TIME (h)</th>\n",
       "    </tr>\n",
       "  </thead>\n",
       "  <tbody>\n",
       "    <tr>\n",
       "      <th>21</th>\n",
       "      <td>2015</td>\n",
       "      <td>CHEVROLET</td>\n",
       "      <td>SPARK EV</td>\n",
       "      <td>SUBCOMPACT</td>\n",
       "      <td>104</td>\n",
       "      <td>A1</td>\n",
       "      <td>B</td>\n",
       "      <td>16.0</td>\n",
       "      <td>19.6</td>\n",
       "      <td>17.8</td>\n",
       "      <td>1.8</td>\n",
       "      <td>2.2</td>\n",
       "      <td>2.0</td>\n",
       "      <td>0</td>\n",
       "      <td>n/a</td>\n",
       "      <td>131</td>\n",
       "      <td>7</td>\n",
       "    </tr>\n",
       "    <tr>\n",
       "      <th>48</th>\n",
       "      <td>2016</td>\n",
       "      <td>TESLA</td>\n",
       "      <td>MODEL S 90D (Refresh)</td>\n",
       "      <td>FULL-SIZE</td>\n",
       "      <td>386</td>\n",
       "      <td>A1</td>\n",
       "      <td>B</td>\n",
       "      <td>20.8</td>\n",
       "      <td>19.7</td>\n",
       "      <td>20.3</td>\n",
       "      <td>2.3</td>\n",
       "      <td>2.2</td>\n",
       "      <td>2.3</td>\n",
       "      <td>0</td>\n",
       "      <td>10</td>\n",
       "      <td>473</td>\n",
       "      <td>12</td>\n",
       "    </tr>\n",
       "    <tr>\n",
       "      <th>18</th>\n",
       "      <td>2014</td>\n",
       "      <td>TESLA</td>\n",
       "      <td>MODEL S (85 kWh battery)</td>\n",
       "      <td>FULL-SIZE</td>\n",
       "      <td>270</td>\n",
       "      <td>A1</td>\n",
       "      <td>B</td>\n",
       "      <td>23.8</td>\n",
       "      <td>23.2</td>\n",
       "      <td>23.6</td>\n",
       "      <td>2.7</td>\n",
       "      <td>2.6</td>\n",
       "      <td>2.6</td>\n",
       "      <td>0</td>\n",
       "      <td>n/a</td>\n",
       "      <td>426</td>\n",
       "      <td>12</td>\n",
       "    </tr>\n",
       "  </tbody>\n",
       "</table>\n",
       "</div>"
      ],
      "text/plain": [
       "    YEAR       Make                     Model        Size  (kW) Unnamed: 5  \\\n",
       "21  2015  CHEVROLET                  SPARK EV  SUBCOMPACT   104         A1   \n",
       "48  2016      TESLA     MODEL S 90D (Refresh)   FULL-SIZE   386         A1   \n",
       "18  2014      TESLA  MODEL S (85 kWh battery)   FULL-SIZE   270         A1   \n",
       "\n",
       "   TYPE  CITY (kWh/100 km)  HWY (kWh/100 km)  COMB (kWh/100 km)  \\\n",
       "21    B               16.0              19.6               17.8   \n",
       "48    B               20.8              19.7               20.3   \n",
       "18    B               23.8              23.2               23.6   \n",
       "\n",
       "    CITY (Le/100 km)  HWY (Le/100 km)  COMB (Le/100 km)  (g/km) RATING  (km)  \\\n",
       "21               1.8              2.2               2.0       0    n/a   131   \n",
       "48               2.3              2.2               2.3       0     10   473   \n",
       "18               2.7              2.6               2.6       0    n/a   426   \n",
       "\n",
       "    TIME (h)  \n",
       "21         7  \n",
       "48        12  \n",
       "18        12  "
      ]
     },
     "execution_count": 22,
     "metadata": {},
     "output_type": "execute_result"
    }
   ],
   "source": [
    "cars = pd.read_csv(datasets['cars'])\n",
    "cars.sample(3)"
   ]
  },
  {
   "cell_type": "code",
   "execution_count": 23,
   "metadata": {},
   "outputs": [
    {
     "ename": "TypeError",
     "evalue": "include and exclude must both be non-string sequences",
     "output_type": "error",
     "traceback": [
      "\u001b[1;31m---------------------------------------------------------------------------\u001b[0m",
      "\u001b[1;31mTypeError\u001b[0m                                 Traceback (most recent call last)",
      "\u001b[1;32m<ipython-input-23-26870e2bfc77>\u001b[0m in \u001b[0;36m<module>\u001b[1;34m()\u001b[0m\n\u001b[1;32m----> 1\u001b[1;33m \u001b[0md2\u001b[0m\u001b[1;33m.\u001b[0m\u001b[0md2\u001b[0m\u001b[1;33m(\u001b[0m\u001b[0mcars\u001b[0m\u001b[1;33m)\u001b[0m\u001b[1;33m\u001b[0m\u001b[0m\n\u001b[0m",
      "\u001b[1;32m<ipython-input-20-5885ad0e9dcc>\u001b[0m in \u001b[0;36md2\u001b[1;34m(self, df)\u001b[0m\n\u001b[0;32m     47\u001b[0m \u001b[1;33m\u001b[0m\u001b[0m\n\u001b[0;32m     48\u001b[0m     \u001b[1;32mdef\u001b[0m \u001b[0md2\u001b[0m\u001b[1;33m(\u001b[0m\u001b[0mself\u001b[0m\u001b[1;33m,\u001b[0m \u001b[0mdf\u001b[0m\u001b[1;33m)\u001b[0m\u001b[1;33m:\u001b[0m\u001b[1;33m\u001b[0m\u001b[0m\n\u001b[1;32m---> 49\u001b[1;33m         \u001b[0mnum\u001b[0m \u001b[1;33m=\u001b[0m \u001b[0mself\u001b[0m\u001b[1;33m.\u001b[0m\u001b[0mdescribe_num\u001b[0m\u001b[1;33m(\u001b[0m\u001b[0mdf\u001b[0m\u001b[1;33m)\u001b[0m\u001b[1;33m\u001b[0m\u001b[0m\n\u001b[0m\u001b[0;32m     50\u001b[0m         \u001b[0mobj\u001b[0m \u001b[1;33m=\u001b[0m \u001b[0mself\u001b[0m\u001b[1;33m.\u001b[0m\u001b[0mdescribe_obj\u001b[0m\u001b[1;33m(\u001b[0m\u001b[0mdf\u001b[0m\u001b[1;33m)\u001b[0m\u001b[1;33m\u001b[0m\u001b[0m\n\u001b[0;32m     51\u001b[0m         \u001b[1;32mreturn\u001b[0m \u001b[0mnum\u001b[0m\u001b[1;33m,\u001b[0m \u001b[0mobj\u001b[0m\u001b[1;33m\u001b[0m\u001b[0m\n",
      "\u001b[1;32m<ipython-input-20-5885ad0e9dcc>\u001b[0m in \u001b[0;36mdescribe_num\u001b[1;34m(self, df)\u001b[0m\n\u001b[0;32m     52\u001b[0m \u001b[1;33m\u001b[0m\u001b[0m\n\u001b[0;32m     53\u001b[0m     \u001b[1;32mdef\u001b[0m \u001b[0mdescribe_num\u001b[0m\u001b[1;33m(\u001b[0m\u001b[0mself\u001b[0m\u001b[1;33m,\u001b[0m \u001b[0mdf\u001b[0m\u001b[1;33m)\u001b[0m\u001b[1;33m:\u001b[0m\u001b[1;33m\u001b[0m\u001b[0m\n\u001b[1;32m---> 54\u001b[1;33m         \u001b[0mdf\u001b[0m \u001b[1;33m=\u001b[0m \u001b[0mdf\u001b[0m\u001b[1;33m.\u001b[0m\u001b[0mselect_dtypes\u001b[0m\u001b[1;33m(\u001b[0m\u001b[0minclude\u001b[0m\u001b[1;33m=\u001b[0m\u001b[1;34m'number'\u001b[0m\u001b[1;33m)\u001b[0m\u001b[1;33m\u001b[0m\u001b[0m\n\u001b[0m\u001b[0;32m     55\u001b[0m         \u001b[0mdescription\u001b[0m \u001b[1;33m=\u001b[0m \u001b[0mpd\u001b[0m\u001b[1;33m.\u001b[0m\u001b[0mDataFrame\u001b[0m\u001b[1;33m(\u001b[0m\u001b[1;33m)\u001b[0m\u001b[1;33m\u001b[0m\u001b[0m\n\u001b[0;32m     56\u001b[0m         \u001b[0mdescription\u001b[0m\u001b[1;33m[\u001b[0m\u001b[1;34m'Type'\u001b[0m\u001b[1;33m]\u001b[0m\u001b[1;33m,\u001b[0m \u001b[0mdescription\u001b[0m\u001b[1;33m[\u001b[0m\u001b[1;34m'Density'\u001b[0m\u001b[1;33m]\u001b[0m \u001b[1;33m=\u001b[0m \u001b[0mdf\u001b[0m\u001b[1;33m.\u001b[0m\u001b[0mftypes\u001b[0m\u001b[1;33m.\u001b[0m\u001b[0mstr\u001b[0m\u001b[1;33m.\u001b[0m\u001b[0msplit\u001b[0m\u001b[1;33m(\u001b[0m\u001b[1;34m':'\u001b[0m\u001b[1;33m)\u001b[0m\u001b[1;33m.\u001b[0m\u001b[0mstr\u001b[0m\u001b[1;33m\u001b[0m\u001b[0m\n",
      "\u001b[1;32mC:\\ProgramData\\Anaconda3\\lib\\site-packages\\pandas\\core\\frame.py\u001b[0m in \u001b[0;36mselect_dtypes\u001b[1;34m(self, include, exclude)\u001b[0m\n\u001b[0;32m   2257\u001b[0m         \u001b[0minclude\u001b[0m\u001b[1;33m,\u001b[0m \u001b[0mexclude\u001b[0m \u001b[1;33m=\u001b[0m \u001b[0minclude\u001b[0m \u001b[1;32mor\u001b[0m \u001b[1;33m(\u001b[0m\u001b[1;33m)\u001b[0m\u001b[1;33m,\u001b[0m \u001b[0mexclude\u001b[0m \u001b[1;32mor\u001b[0m \u001b[1;33m(\u001b[0m\u001b[1;33m)\u001b[0m\u001b[1;33m\u001b[0m\u001b[0m\n\u001b[0;32m   2258\u001b[0m         \u001b[1;32mif\u001b[0m \u001b[1;32mnot\u001b[0m \u001b[1;33m(\u001b[0m\u001b[0mis_list_like\u001b[0m\u001b[1;33m(\u001b[0m\u001b[0minclude\u001b[0m\u001b[1;33m)\u001b[0m \u001b[1;32mand\u001b[0m \u001b[0mis_list_like\u001b[0m\u001b[1;33m(\u001b[0m\u001b[0mexclude\u001b[0m\u001b[1;33m)\u001b[0m\u001b[1;33m)\u001b[0m\u001b[1;33m:\u001b[0m\u001b[1;33m\u001b[0m\u001b[0m\n\u001b[1;32m-> 2259\u001b[1;33m             raise TypeError('include and exclude must both be non-string'\n\u001b[0m\u001b[0;32m   2260\u001b[0m                             ' sequences')\n\u001b[0;32m   2261\u001b[0m         \u001b[0mselection\u001b[0m \u001b[1;33m=\u001b[0m \u001b[0mtuple\u001b[0m\u001b[1;33m(\u001b[0m\u001b[0mmap\u001b[0m\u001b[1;33m(\u001b[0m\u001b[0mfrozenset\u001b[0m\u001b[1;33m,\u001b[0m \u001b[1;33m(\u001b[0m\u001b[0minclude\u001b[0m\u001b[1;33m,\u001b[0m \u001b[0mexclude\u001b[0m\u001b[1;33m)\u001b[0m\u001b[1;33m)\u001b[0m\u001b[1;33m)\u001b[0m\u001b[1;33m\u001b[0m\u001b[0m\n",
      "\u001b[1;31mTypeError\u001b[0m: include and exclude must both be non-string sequences"
     ]
    }
   ],
   "source": [
    "d2.d2(cars)"
   ]
  },
  {
   "cell_type": "code",
   "execution_count": null,
   "metadata": {
    "collapsed": true
   },
   "outputs": [],
   "source": []
  },
  {
   "cell_type": "code",
   "execution_count": null,
   "metadata": {
    "collapsed": true
   },
   "outputs": [],
   "source": []
  }
 ],
 "metadata": {
  "kernelspec": {
   "display_name": "Python 3",
   "language": "python",
   "name": "python3"
  },
  "language_info": {
   "codemirror_mode": {
    "name": "ipython",
    "version": 3
   },
   "file_extension": ".py",
   "mimetype": "text/x-python",
   "name": "python",
   "nbconvert_exporter": "python",
   "pygments_lexer": "ipython3",
   "version": "3.6.2"
  }
 },
 "nbformat": 4,
 "nbformat_minor": 2
}
