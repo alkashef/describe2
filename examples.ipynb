{
 "cells": [
  {
   "cell_type": "code",
   "execution_count": 12,
   "metadata": {
    "collapsed": true
   },
   "outputs": [],
   "source": [
    "import numpy as np\n",
    "import pandas as pd\n",
    "import os\n",
    "import describe2 as d2"
   ]
  },
  {
   "cell_type": "code",
   "execution_count": 13,
   "metadata": {},
   "outputs": [],
   "source": [
    "d2 = describe2"
   ]
  },
  {
   "cell_type": "code",
   "execution_count": 19,
   "metadata": {},
   "outputs": [
    {
     "data": {
      "text/plain": [
       "{'cars': 'C:\\\\Alkashef\\\\OneDrive - Teradata\\\\Dev\\\\Github\\\\describe2\\\\datasets\\\\cars.csv',\n",
       " 'census': 'C:\\\\Alkashef\\\\OneDrive - Teradata\\\\Dev\\\\Github\\\\describe2\\\\datasets\\\\census.csv',\n",
       " 'grades': 'C:\\\\Alkashef\\\\OneDrive - Teradata\\\\Dev\\\\Github\\\\describe2\\\\datasets\\\\grades.csv',\n",
       " 'log': 'C:\\\\Alkashef\\\\OneDrive - Teradata\\\\Dev\\\\Github\\\\describe2\\\\datasets\\\\log.csv',\n",
       " 'mpg': 'C:\\\\Alkashef\\\\OneDrive - Teradata\\\\Dev\\\\Github\\\\describe2\\\\datasets\\\\mpg.csv',\n",
       " 'olympics': 'C:\\\\Alkashef\\\\OneDrive - Teradata\\\\Dev\\\\Github\\\\describe2\\\\datasets\\\\olympics.csv'}"
      ]
     },
     "execution_count": 19,
     "metadata": {},
     "output_type": "execute_result"
    }
   ],
   "source": [
    "working_dir = os.getcwd()\n",
    "datasets_dir = os.path.join(working_dir, 'datasets')\n",
    "\n",
    "datasets = {}\n",
    "for csv in os.listdir(datasets_dir):\n",
    "    datasets[os.path.splitext(csv)[0]] = os.path.join(datasets_dir, csv)\n",
    "\n",
    "datasets"
   ]
  },
  {
   "cell_type": "code",
   "execution_count": 25,
   "metadata": {},
   "outputs": [
    {
     "data": {
      "text/html": [
       "<div>\n",
       "<style>\n",
       "    .dataframe thead tr:only-child th {\n",
       "        text-align: right;\n",
       "    }\n",
       "\n",
       "    .dataframe thead th {\n",
       "        text-align: left;\n",
       "    }\n",
       "\n",
       "    .dataframe tbody tr th {\n",
       "        vertical-align: top;\n",
       "    }\n",
       "</style>\n",
       "<table border=\"1\" class=\"dataframe\">\n",
       "  <thead>\n",
       "    <tr style=\"text-align: right;\">\n",
       "      <th></th>\n",
       "      <th>YEAR</th>\n",
       "      <th>Make</th>\n",
       "      <th>Model</th>\n",
       "      <th>Size</th>\n",
       "      <th>(kW)</th>\n",
       "      <th>Unnamed: 5</th>\n",
       "      <th>TYPE</th>\n",
       "      <th>CITY (kWh/100 km)</th>\n",
       "      <th>HWY (kWh/100 km)</th>\n",
       "      <th>COMB (kWh/100 km)</th>\n",
       "      <th>CITY (Le/100 km)</th>\n",
       "      <th>HWY (Le/100 km)</th>\n",
       "      <th>COMB (Le/100 km)</th>\n",
       "      <th>(g/km)</th>\n",
       "      <th>RATING</th>\n",
       "      <th>(km)</th>\n",
       "      <th>TIME (h)</th>\n",
       "    </tr>\n",
       "  </thead>\n",
       "  <tbody>\n",
       "    <tr>\n",
       "      <th>2</th>\n",
       "      <td>2013</td>\n",
       "      <td>FORD</td>\n",
       "      <td>FOCUS ELECTRIC</td>\n",
       "      <td>COMPACT</td>\n",
       "      <td>107</td>\n",
       "      <td>A1</td>\n",
       "      <td>B</td>\n",
       "      <td>19.0</td>\n",
       "      <td>21.1</td>\n",
       "      <td>20.0</td>\n",
       "      <td>2.1</td>\n",
       "      <td>2.4</td>\n",
       "      <td>2.2</td>\n",
       "      <td>0</td>\n",
       "      <td>n/a</td>\n",
       "      <td>122</td>\n",
       "      <td>4</td>\n",
       "    </tr>\n",
       "    <tr>\n",
       "      <th>33</th>\n",
       "      <td>2015</td>\n",
       "      <td>TESLA</td>\n",
       "      <td>MODEL S P85D/P90D</td>\n",
       "      <td>FULL-SIZE</td>\n",
       "      <td>515</td>\n",
       "      <td>A1</td>\n",
       "      <td>B</td>\n",
       "      <td>23.4</td>\n",
       "      <td>21.5</td>\n",
       "      <td>22.5</td>\n",
       "      <td>2.6</td>\n",
       "      <td>2.4</td>\n",
       "      <td>2.5</td>\n",
       "      <td>0</td>\n",
       "      <td>n/a</td>\n",
       "      <td>407</td>\n",
       "      <td>12</td>\n",
       "    </tr>\n",
       "    <tr>\n",
       "      <th>41</th>\n",
       "      <td>2016</td>\n",
       "      <td>SMART</td>\n",
       "      <td>FORTWO ELECTRIC DRIVE CABRIOLET</td>\n",
       "      <td>TWO-SEATER</td>\n",
       "      <td>35</td>\n",
       "      <td>A1</td>\n",
       "      <td>B</td>\n",
       "      <td>17.2</td>\n",
       "      <td>22.5</td>\n",
       "      <td>19.6</td>\n",
       "      <td>1.9</td>\n",
       "      <td>2.5</td>\n",
       "      <td>2.2</td>\n",
       "      <td>0</td>\n",
       "      <td>10</td>\n",
       "      <td>109</td>\n",
       "      <td>8</td>\n",
       "    </tr>\n",
       "  </tbody>\n",
       "</table>\n",
       "</div>"
      ],
      "text/plain": [
       "    YEAR   Make                            Model        Size  (kW) Unnamed: 5  \\\n",
       "2   2013   FORD                   FOCUS ELECTRIC     COMPACT   107         A1   \n",
       "33  2015  TESLA                MODEL S P85D/P90D   FULL-SIZE   515         A1   \n",
       "41  2016  SMART  FORTWO ELECTRIC DRIVE CABRIOLET  TWO-SEATER    35         A1   \n",
       "\n",
       "   TYPE  CITY (kWh/100 km)  HWY (kWh/100 km)  COMB (kWh/100 km)  \\\n",
       "2     B               19.0              21.1               20.0   \n",
       "33    B               23.4              21.5               22.5   \n",
       "41    B               17.2              22.5               19.6   \n",
       "\n",
       "    CITY (Le/100 km)  HWY (Le/100 km)  COMB (Le/100 km)  (g/km) RATING  (km)  \\\n",
       "2                2.1              2.4               2.2       0    n/a   122   \n",
       "33               2.6              2.4               2.5       0    n/a   407   \n",
       "41               1.9              2.5               2.2       0     10   109   \n",
       "\n",
       "    TIME (h)  \n",
       "2          4  \n",
       "33        12  \n",
       "41         8  "
      ]
     },
     "execution_count": 25,
     "metadata": {},
     "output_type": "execute_result"
    }
   ],
   "source": [
    "cars = pd.read_csv(datasets['cars'])\n",
    "cars.sample(3)"
   ]
  },
  {
   "cell_type": "code",
   "execution_count": null,
   "metadata": {
    "collapsed": true
   },
   "outputs": [],
   "source": []
  }
 ],
 "metadata": {
  "kernelspec": {
   "display_name": "Python 3",
   "language": "python",
   "name": "python3"
  },
  "language_info": {
   "codemirror_mode": {
    "name": "ipython",
    "version": 3
   },
   "file_extension": ".py",
   "mimetype": "text/x-python",
   "name": "python",
   "nbconvert_exporter": "python",
   "pygments_lexer": "ipython3",
   "version": "3.6.2"
  }
 },
 "nbformat": 4,
 "nbformat_minor": 2
}
